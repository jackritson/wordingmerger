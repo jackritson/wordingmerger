import PyPDF2
import requests
from io import BytesIO
from ipywidgets import widgets, VBox
from IPython.display import display

# Dictionary of PDF titles and their URLs
pdf_links = {
    "Introduction": "https://www.allianz.co.uk/content/dam/onemarketing/azuk/allianzcouk/broker/docs/products/multinationals-solutions/policy-wordings/ics/2022/policy-introduction-acom1130_6_0422.pdf",
    "FOS Introduction": "https://www.allianz.co.uk/content/dam/onemarketing/azuk/allianzcouk/broker/docs/products/multinationals-solutions/policy-wordings/ics/2022/freedom-of-service-policy-introduction-acom9519_0922.pdf",
    "PD Events": "https://www.allianz.co.uk/content/dam/onemarketing/azuk/allianzcouk/broker/docs/products/multinationals-solutions/general-documents/property-damage-events_acom1183_3.pdf",
    "PD All Risks": "https://www.allianz.co.uk/content/dam/onemarketing/azuk/allianzcouk/broker/docs/products/multinationals-solutions/policy-wordings/ics/2022/property-damage-all-risks-acom1210_4_0422.pdf",
    "BI - BOOK DEBTS": "https://www.allianz.co.uk/content/dam/onemarketing/azuk/allianzcouk/broker/docs/products/multinationals-solutions/policy-wordings/ics-overseas/overseas-acom1148-1-book-depts-extension.pdf",
    "BI EVENTS - ACOW": "https://www.allianz.co.uk/content/dam/onemarketing/azuk/allianzcouk/broker/docs/products/multinationals-solutions/policy-wordings/ics/ACOM1202_3_0321.pdf",
    "BI EVENTS - GROSS PROFIT": "https://www.allianz.co.uk/content/dam/onemarketing/azuk/allianzcouk/broker/docs/products/multinationals-solutions/general-documents/business-interruption-events-gross-profit_acom1203_4.pdf",
    "BI EVENTS - EST GROSS PROFIT": "https://www.allianz.co.uk/content/dam/onemarketing/azuk/allianzcouk/broker/docs/products/multinationals-solutions/general-documents/business-interruption-events-estimated-gross-profit_acom1204_4.pdf",
    "BI EVENTS - GROSS RENT": "https://www.allianz.co.uk/content/dam/onemarketing/azuk/allianzcouk/broker/docs/products/multinationals-solutions/policy-wordings/ics/ACOM1205_3_0321.pdf",
    "BI EVENTS - REVENUE": "https://www.allianz.co.uk/content/dam/onemarketing/azuk/allianzcouk/broker/docs/products/multinationals-solutions/policy-wordings/ics/ACOM1206_3_0321.pdf",
    "BI EVENTS - EST REVENUE": "https://www.allianz.co.uk/content/dam/onemarketing/azuk/allianzcouk/broker/docs/products/multinationals-solutions/general-documents/business-interruption-events-estimated-revenue_acom1207_4.pdf",
    "BI EVENTS - INCOME": "https://www.allianz.co.uk/content/dam/onemarketing/azuk/allianzcouk/broker/docs/products/multinationals-solutions/general-documents/business-interruption-events-income_acom1208_4.pdf",
    "BI EVENTS - EST INCOME": "https://www.allianz.co.uk/content/dam/onemarketing/azuk/allianzcouk/broker/docs/products/multinationals-solutions/policy-wordings/ics/ACOM1209_3_0321.pdf",
    "BI EVENTS - EST GROSS RENT": "https://www.allianz.co.uk/content/dam/onemarketing/azuk/allianzcouk/broker/docs/products/multinationals-solutions/policy-wordings/ics/business-interruption-events-estimated-gross-rent_acom1222_4.pdf",
    "BI ALL RISKS - ACOW": "https://www.allianz.co.uk/content/dam/onemarketing/azuk/allianzcouk/broker/docs/products/multinationals-solutions/policy-wordings/ics/2022/bi-all-risks-additional-cost-of-working-acom1211_5_0422.pdf",
    "BI ALL RISKS - GROSS RENT": "https://www.allianz.co.uk/content/dam/onemarketing/azuk/allianzcouk/broker/docs/products/multinationals-solutions/policy-wordings/ics/2022/bi-all-risks-gross-rent-acom1212_4_0322.pdf",
    "BI ALL RISKS -EST REVENUE": "https://www.allianz.co.uk/content/dam/onemarketing/azuk/allianzcouk/broker/docs/products/multinationals-solutions/policy-wordings/ics/2022/bi-all-risks-estimated-revenue-acom1214_4_0322.pdf",
    "BI ALL RISKS -EST GROSS PROFIT": "https://www.allianz.co.uk/content/dam/onemarketing/azuk/allianzcouk/broker/docs/products/multinationals-solutions/policy-wordings/ics/2022/bi-all-risks-estimated-gross-profit-acom1215_5_0422.pdf",
    "BI ALL RISKS - GROSS PROFIT": "https://www.allianz.co.uk/content/dam/onemarketing/azuk/allianzcouk/broker/docs/products/multinationals-solutions/policy-wordings/ics/2022/bi-all-risks-gross-profit-acom1216_5_0422.pdf",
    "BI ALL RISKS - INCOME": "https://www.allianz.co.uk/content/dam/onemarketing/azuk/allianzcouk/broker/docs/products/multinationals-solutions/policy-wordings/ics/2022/bi-all-risks-income-acom1217_4_0322.pdf",
    "BI ALL RISKS - EST INCOME": "https://www.allianz.co.uk/content/dam/onemarketing/azuk/allianzcouk/broker/docs/products/multinationals-solutions/policy-wordings/ics/2022/bi-all-risks-estimated-income-acom-1221_4_0322.pdf",
    "BI ALL RISKS - EST GROSS RENT": "https://www.allianz.co.uk/content/dam/onemarketing/azuk/allianzcouk/broker/docs/products/multinationals-solutions/policy-wordings/ics/2022/bi-all-risks-estimated-gross-rent-acom1223_4_0322.pdf",
    "PUBLIC AND PRODUCTS LIABILITY": "https://www.allianz.co.uk/content/dam/onemarketing/azuk/allianzcouk/broker/docs/products/multinationals-solutions/policy-wordings/ics/2023/public-and-products-liability-section_acom1218_5_0423.pdf",
    "EMPLOYERS LIABILITY": "https://www.allianz.co.uk/content/dam/onemarketing/azuk/allianzcouk/broker/docs/products/multinationals-solutions/policy-wordings/ics/2022/employers-liability-acom1219_2_0422.pdf",
    "LEXP": "https://www.allianz.co.uk/content/dam/onemarketing/azuk/allianzcouk/broker/docs/policy-wording/ML0014-commercial-legal-expenses-section.pdf",
    "TERRORISM": "https://www.allianz.co.uk/content/dam/onemarketing/azuk/allianzcouk/broker/docs/products/multinationals-solutions/policy-wordings/ipos-overseas/terrorism-section-acom1161_3_0422.pdf",
    "MONEY": "https://www.allianz.co.uk/content/dam/onemarketing/azuk/allianzcouk/broker/docs/products/multinationals-solutions/policy-wordings/ipos-overseas/money-section-acom1165_3_0422.pdf",
    "GIT": "https://www.allianz.co.uk/content/dam/onemarketing/azuk/allianzcouk/broker/docs/products/multinationals-solutions/policy-wordings/ipos-overseas/goods-in-transit-acom1166_2_0422.pdf",
    "SAR": "https://www.allianz.co.uk/content/dam/onemarketing/azuk/allianzcouk/broker/docs/products/multinationals-solutions/policy-wordings/ipos-overseas/specified-all-risks-acom1167_2_0422.pdf",
    "COMPUTER": "https://www.allianz.co.uk/content/dam/onemarketing/azuk/allianzcouk/broker/docs/engineering/computer/computer-policy-wording_ace2888-6.pdf"
}

# Function to merge PDFs
def merge_pdfs(pdf_urls, output_filename):
    pdf_writer = PyPDF2.PdfWriter()

    for title, url in pdf_urls.items():
        response = requests.get(url)
        pdf_reader = PyPDF2.PdfReader(BytesIO(response.content))
        for page_num in range(len(pdf_reader.pages)):
            pdf_writer.add_page(pdf_reader.pages[page_num])

    with open(output_filename, 'wb') as out_file:
        pdf_writer.write(out_file)

# Create checkboxes for each PDF title
checkboxes = {title: widgets.Checkbox(value=False, description=title) for title in pdf_links.keys()}

# Display checkboxes
checkboxes_ui = VBox(list(checkboxes.values()))
display(checkboxes_ui)

# Button to trigger the merge action
merge_button = widgets.Button(description="Merge Selected PDFs")

# Function to handle button click
def on_merge_button_clicked(b):
    selected_pdfs = {title: url for title, url in pdf_links.items() if checkboxes[title].value}
    if selected_pdfs:
        merge_pdfs(selected_pdfs, "merged_policy_document.pdf")
        print("PDFs merged successfully! Download 'merged_policy_document.pdf' from the file explorer on the left.")
    else:
        print("No sections selected.")

merge_button.on_click(on_merge_button_clicked)

# Display the button
display(merge_button)
