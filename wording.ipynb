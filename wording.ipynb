{
  "cells": [
    {
      "cell_type": "markdown",
      "metadata": {},
      "source": [
        "# PDF Merger Notebook\n",
        "This notebook allows you to merge multiple PDF files from specified URLs using PyPDF2."
      ]
    },
    {
      "cell_type": "code",
      "execution_count": null,
      "metadata": {},
      "outputs": [],
      "source": [
        "!pip install PyPDF2\n",
        "import PyPDF2\n",
        "import requests\n",
        "from io import BytesIO\n",
        "from ipywidgets import widgets, VBox\n",
        "from IPython.display import display"
      ]
    },
    {
      "cell_type": "code",
      "execution_count": null,
      "metadata": {},
      "outputs": [],
      "source": [
        "# Dictionary of PDF titles and their URLs\n",
        "pdf_links = {\n",
        "    \"Introduction\": \"https://www.allianz.co.uk/content/dam/onemarketing/azuk/allianzcouk/broker/docs/products/multinationals-solutions/policy-wordings/ics/2022/policy-introduction-acom1130_6_0422.pdf\",\n",
        "    \"FOS Introduction\": \"https://www.allianz.co.uk/content/dam/onemarketing/azuk/allianzcouk/broker/docs/products/multinationals-solutions/policy-wordings/ics/2022/freedom-of-service-policy-introduction-acom9519_0922.pdf\",\n",
        "    \"PD Events\": \"https://www.allianz.co.uk/content/dam/onemarketing/azuk/allianzcouk/broker/docs/products/multinationals-solutions/general-documents/property-damage-events_acom1183_3.pdf\",\n",
        "    \"PD All Risks\": \"https://www.allianz.co.uk/content/dam/onemarketing/azuk/allianzcouk/broker/docs/products/multinationals-solutions/policy-wordings/ics/2022/property-damage-all-risks-acom1210_4_0422.pdf\",\n",
        "    \"BI - BOOK DEBTS\": \"https://www.allianz.co.uk/content/dam/onemarketing/azuk/allianzcouk/broker/docs/products/multinationals-solutions/policy-wordings/ics-overseas/overseas-acom1148-1-book-depts-extension.pdf\",\n",
        "    \"BI EVENTS - ACOW\": \"https://www.allianz.co.uk/content/dam/onemarketing/azuk/allianzcouk/broker/docs/products/multinationals-solutions/policy-wordings/ics/ACOM1202_3_0321.pdf\",\n",
        "    \"BI EVENTS - GROSS PROFIT\": \"https://www.allianz.co.uk/content/dam/onemarketing/azuk/allianzcouk/broker/docs/products/multinationals-solutions/general-documents/business-interruption-events-gross-profit_acom1203_4.pdf\",\n",
        "    \"BI EVENTS - EST GROSS PROFIT\": \"https://www.allianz.co.uk/content/dam/onemarketing/azuk/allianzcouk/broker/docs/products/multinationals-solutions/general-documents/business-interruption-events-estimated-gross-profit_acom1204_4.pdf\",\n",
        "    \"BI EVENTS - GROSS RENT\": \"https://www.allianz.co.uk/content/dam/onemarketing/azuk/allianzcouk/broker/docs/products/multinationals-solutions/policy-wordings/ics/ACOM1205_3_0321.pdf\",\n",
        "    \"BI EVENTS - REVENUE\": \"https://www.allianz.co.uk/content/dam/onemarketing/azuk/allianzcouk/broker/docs/products/multinationals-solutions/policy-wordings/ics/ACOM1206_3_0321.pdf\",\n",
        "    \"BI EVENTS - EST REVENUE\": \"https://www.allianz.co.uk/content/dam/onemarketing/azuk/allianzcouk/broker/docs/products/multinationals-solutions/general-documents/business-interruption-events-estimated-revenue_acom1207_4.pdf\",\n",
        "    \"BI EVENTS - INCOME\": \"https://www.allianz.co.uk/content/dam/onemarketing/azuk/allianzcouk/broker/docs/products/multinationals-solutions/general-documents/business-interruption-events-income_acom1208_4.pdf\",\n",
        "    \"BI EVENTS - EST INCOME\": \"https://www.allianz.co.uk/content/dam/onemarketing/azuk/allianzcouk/broker/docs/products/multinationals-solutions/policy-wordings/ics/ACOM1209_3_0321.pdf\",\n",
        "    \"BI EVENTS - EST GROSS RENT\": \"https://www.allianz.co.uk/content/dam/onemarketing/azuk/allianzcouk/broker/docs/products/multinationals-solutions/policy-wordings/ics/business-interruption-events-estimated-gross-rent_acom1222_4.pdf\",\n",
        "    \"BI ALL RISKS - ACOW\": \"https://www.allianz.co.uk/content/dam/onemarketing/azuk/allianzcouk/broker/docs/products/multinationals-solutions/policy-wordings/ics/2022/bi-all-risks-additional-cost-of-working-acom1211_5_0422.pdf\",\n",
        "    \"BI ALL RISKS - GROSS RENT\": \"https://www.allianz.co.uk/content/dam/onemarketing/azuk/allianzcouk/broker/docs/products/multinationals-solutions/policy-wordings/ics/2022/bi-all-risks-gross-rent-acom1212_4_0322.pdf\",\n",
        "    \"BI ALL RISKS - EST REVENUE\": \"https://www.allianz.co.uk/content/dam/onemarketing/azuk/allianzcouk/broker/docs/products/multinationals-solutions/policy-wordings/ics/2022/bi-all-risks-estimated-revenue-acom1214_4_0322.pdf\",\n",
        "    \"BI ALL RISKS - EST GROSS PROFIT\": \"https://www.allianz.co.uk/content/dam/onemarketing/azuk/allianzcouk/broker/docs/products/multinationals-solutions/policy-wordings/ics/2022/bi-all-risks-estimated-gross-profit-acom1215_5_0422.pdf\",\n",
        "    \"BI ALL RISKS - GROSS PROFIT\": \"https://www.allianz.co.uk/content/dam/onemarketing/azuk/allianzcouk/broker/docs/products/multinationals-solutions/policy-wordings/ics/2022/bi-all-risks-gross-profit-acom1216_5_0422.pdf\",\n",
        "    \"BI ALL RISKS - INCOME\": \"https://www.allianz.co.uk/content/dam/onemarketing/azuk/allianzcouk/broker/docs/products/multinationals-solutions/policy-wordings/ics/2022/bi-all-risks-income-acom1217_4_0322.pdf\",\n",
        "    \"BI ALL RISKS - EST INCOME\": \"https://www.allianz.co.uk/content/dam/onemarketing/azuk/allianzcouk/broker/docs/products/multinationals-solutions/policy-wordings/ics/2022/bi-all-risks-estimated-income-acom-1221_4_0322.pdf\",\n",
        "    \"BI ALL RISKS - EST GROSS RENT\": \"https://www.allianz.co.uk/content/dam/onemarketing/azuk/allianzcouk/broker/docs/products/multinationals-solutions/policy-wordings/ics/2022/bi-all-risks-estimated-gross-rent-acom1223_4_0322.pdf\",\n",
        "    \"PUBLIC AND PRODUCTS LIABILITY\": \"https://www.allianz.co.uk/content/dam/onemarketing/azuk/allianzcouk/broker/docs/products/multinationals-solutions/policy-wordings/ics/2023/public-and-products-liability-section_acom1218_5_0423.pdf\",\n",
        "    \"EMPLOYERS LIABILITY\": \"https://www.allianz.co.uk/content/dam/onemarketing/azuk/allianzcouk/broker/docs/products/multinationals-solutions/policy-wordings/ics/2022/employers-liability-acom1219_2_0422.pdf\",\n",
        "    \"LEXP\": \"https://www.allianz.co.uk/content/dam/onemarketing/azuk/allianzcouk/broker/docs/policy-wording/ML0014-commercial-legal-expenses-section.pdf\",\n",
        "    \"TERRORISM\": \"https://www.allianz.co.uk/content/dam/onemarketing/azuk/allianzcouk/broker/docs/products/multinationals-solutions/policy-wordings/ipos-overseas/terrorism-section-acom1161_3_0422.pdf\",\n",
        "    \"MONEY\": \"https://www.allianz.co.uk/content/dam/onemarketing/azuk/allianzcouk/broker/docs/products/multinationals-solutions/policy-wordings/ipos-overseas/money-section-acom1165_3_0422.pdf\",\n",
        "    \"GIT\": \"https://www.allianz.co.uk/content/dam/onemarketing/azuk/allianzcouk/broker/docs/products/multinationals-solutions/policy-wordings/ipos-overseas/goods-in-transit-acom1166_2_0422.pdf\",\n",
        "    \"SAR\": \"https://www.allianz.co.uk/content/dam/onemarketing/azuk/allianzcouk/broker/docs/products/multinationals-solutions/policy-wordings/ipos-overseas/specified-all-risks-acom1167_2_0422.pdf\",\n",
        "    \"COMPUTER\": \"https://www.allianz.co.uk/content/dam/onemarketing/azuk/allianzcouk/broker/docs/engineering/computer/computer-policy-wording_ace2888-6.pdf\"\n",
        "}\n"
      ]
    },
    {
      "cell_type": "code",
      "execution_count": null,
      "metadata": {},
      "outputs": [],
      "source": [
        "# Function to merge PDFs\n",
        "def merge_pdfs(pdf_urls, output_filename):\n",
        "    pdf_writer = PyPDF2.PdfWriter()\n",
        "\n",
        "    for title, url in pdf_urls.items():\n",
        "        try:\n",
        "            response = requests.get(url)\n",
        "            response.raise_for_status()  # Raise an exception for bad status codes\n",
        "            pdf_reader = PyPDF2.PdfReader(BytesIO(response.content))\n",
        "            for page_num in range(len(pdf_reader.pages)):\n",
        "                pdf_writer.add_page(pdf_reader.pages[page_num])\n",
        "        except requests.exceptions.RequestException as e:\n",
        "            print(f\"Network error while accessing '{url}' (Title: '{title}'): {e}\")\n",
        "        except PyPDF2.errors.PdfReadError as e:\n",
        "            print(f\"Error reading PDF from '{url}' (Title: '{title}'): {e}\")\n",
        "\n",
        "    with open(output_filename, 'wb') as out_file:\n",
        "        pdf_writer.write(out_file)\n"
      ]
    },
    {
      "cell_type": "code",
      "execution_count": null,
      "metadata": {},
      "outputs": [],
      "source": [
        "# Create checkboxes for each PDF title\n",
        "checkboxes = {title: widgets.Checkbox(value=False, description=title) for title in pdf_links.keys()}\n",
        "\n",
        "# Display checkboxes\n",
        "checkboxes_ui = VBox(list(checkboxes.values()))\n",
        "display(checkboxes_ui)\n",
        "\n",
        "# Button to trigger the merge action\n",
        "merge_button = widgets.Button(description=\"Merge Selected PDFs\")\n",
        "\n",
        "# Function to handle button click\n",
        "def on_merge_button_clicked(b):\n",
        "    selected_pdfs = {title: url for title, url in pdf_links.items() if checkboxes[title].value}\n",
        "    if selected_pdfs:\n",
        "        try:\n",
        "            merge_pdfs(selected_pdfs, \"merged_policy_document.pdf\")\n",
        "            print(\"PDFs merged successfully! Download 'merged_policy_document.pdf' from the file explorer on the left.\")\n",
        "        except Exception as e:\n",
        "            print(f\"Unexpected error during merging: {e}\")\n",
        "    else:\n",
        "        print(\"No sections selected.\")\n",
        "\n",
        "merge_button.on_click(on_merge_button_clicked)\n",
        "\n",
        "# Display the button\n",
        "display(merge_button)\n"
      ]
    }
  ],
  "metadata": {
    "kernelspec": {
      "display_name": "Python 3",
      "language": "python",
      "name": "python3"
    },
    "language_info": {
      "codemirror_mode": {
        "name": "ipython",
        "version": 3
      },
      "file_extension": ".py",
      "mimetype": "text/x-python",
      "name": "python",
      "nbconvert_exporter": "python",
      "pygments_lexer": "ipython3",
      "version": "3.8.5"
    }
  },
  "nbformat": 4,
  "nbformat_minor": 5
}
